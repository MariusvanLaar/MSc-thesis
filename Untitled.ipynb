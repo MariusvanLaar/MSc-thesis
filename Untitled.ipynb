{
 "cells": [
  {
   "cell_type": "markdown",
   "id": "b4ecf3af-75cd-4ecc-b3f6-6eacbc2b03e1",
   "metadata": {},
   "source": [
    "**Experimental methods**"
   ]
  },
  {
   "cell_type": "markdown",
   "id": "c683ed23-d00f-4764-8856-258b80aa66f9",
   "metadata": {},
   "source": [
    "Our goal is to find out how the performance of models changes as they get more difficult to simulate classically. Under the divide and conquer scheme we cut two-qubit gates in order to partition a model into blocks containing fewer qubits. The scaling of the resulting algorithm is as follows: $\\mathcal{O}(2^{K+n}B)$, where $K$ is the number of two-qubit gates that are cut, $n$ the number of qubits in the largest block and $B$ the number of blocks. In order to avoid having to solve the combinatorially hard task of finding the optimal cuts for some arbitrary circuit, we predefine a circuit with a set number of blocks, each with the same number of qubits, and introduce the cut two-qubit gates as a design choice. This allows for a more refined control of the difficulty of the simulation. From the scaling it is evident that simulability is mainly a tradeoff between the number of cut gates, and the number of qubits in each block. \n",
    "In the remainder of this notebook we go through important experiment design choices, and justify our decisions for each.\n"
   ]
  },
  {
   "cell_type": "markdown",
   "id": "307dbcbb-9627-4c04-b8fe-a896711946f6",
   "metadata": {},
   "source": [
    "*Number of blocks $B$, qubits $n$ and cuts $K$* <br>\n",
    "In order to maintain the possibility of full qubit connectivity/entanglement (such as in the image below), it is reasonable to generally relate the number of cut gates to the number of blocks. For example, in order to achieve a ring of qubit connectivity, one would need as many cut gates as blocks, ie $K=B$. This is a restriction on the number of blocks (as long as we demand the possibility of full entanglement) as $K$ is restricted by the exponential scaling. We would like to use our D&C method to go beyond the limits of brute force full circuit simulation, which we can set at 15 qubits as a conservative estimate, such that we want $Bn\\ge15$. \n",
    "\n",
    "During testing we find the upper limit of the hardware to be around $(K=8, n=5) or (K=0, n=12)$. We choose to fix $n=5$ for most experiments as this allows for a good range of $K$'s to be tested. We vary $B$ as desired, but aim to set it at 4 for the final experiments such that we end up with a 20 qubit classifier, which is larger than most models seen in related literature."
   ]
  },
  {
   "attachments": {
    "5582e059-46f9-480b-8a2f-bbe2b855813d.png": {
     "image/png": "[encoded data removed]"
    }
   },
   "cell_type": "markdown",
   "id": "b9ad492e-b697-482b-8b71-75ba574c8a13",
   "metadata": {},
   "source": [
    "![ring_ent.png](attachment:5582e059-46f9-480b-8a2f-bbe2b855813d.png)"
   ]
  },
  {
   "cell_type": "code",
   "execution_count": null,
   "id": "ff1ebcee-79c1-48bc-83ac-e5157d59c84b",
   "metadata": {},
   "outputs": [],
   "source": []
  }
 ],
 "metadata": {
  "kernelspec": {
   "display_name": "Python 3 (ipykernel)",
   "language": "python",
   "name": "python3"
  },
  "language_info": {
   "codemirror_mode": {
    "name": "ipython",
    "version": 3
   },
   "file_extension": ".py",
   "mimetype": "text/x-python",
   "name": "python",
   "nbconvert_exporter": "python",
   "pygments_lexer": "ipython3",
   "version": "3.8.9"
  }
 },
 "nbformat": 4,
 "nbformat_minor": 5
}
